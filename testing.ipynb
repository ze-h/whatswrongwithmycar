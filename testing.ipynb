{
 "cells": [
  {
   "cell_type": "code",
   "execution_count": 2,
   "metadata": {},
   "outputs": [],
   "source": [
    "from random import randint\n",
    "import sys\n",
    "import lib.gui.ui_main\n",
    "from PyQt5.QtWidgets import QApplication\n",
    "from lib.question import Question\n",
    "import csv\n",
    "\n",
    "fin_q = list()\n",
    "qlist = list()\n",
    "with open('questions.csv') as file_obj:\n",
    "    reader_obj = csv.reader(file_obj)\n",
    "    for row in reader_obj:\n",
    "        try:\n",
    "            qn = Question(row[0], row[1], row[18], row[2:10], row[10:18])\n",
    "            qlist.append(qn)\n",
    "        except(IndexError):\n",
    "            print(\"A non-fatal IndexError has occured\")\n",
    "            pass"
   ]
  },
  {
   "cell_type": "code",
   "execution_count": 14,
   "metadata": {},
   "outputs": [
    {
     "name": "stdout",
     "output_type": "stream",
     "text": [
      "End of program. The top three vehicle issues with their probabilities are as follows:\n",
      "dead_battery : 92.0%\n",
      "corroded_battery_terminals : 84.0%\n",
      "blown_fuse : 70.0%\n",
      "\n"
     ]
    }
   ],
   "source": [
    "from lib.Problems import VehicleIssues\n",
    "# Print end of program statement\n",
    "V = VehicleIssues()\n",
    "string = \"End of program. The top three vehicle issues with their probabilities are as follows:\\n\"\n",
    "\n",
    "# Sort the problems by their float values in descending order\n",
    "sorted_problems = sorted(V.problemlist.items(), key=lambda x:x[1],reverse=True)\n",
    "\n",
    "# Print the first three problems\n",
    "for problem, value in sorted_problems[:3]:\n",
    "    string += f\"{problem}: {100 * value}%\\n\"\n",
    "print(string)"
   ]
  }
 ],
 "metadata": {
  "kernelspec": {
   "display_name": "env",
   "language": "python",
   "name": "python3"
  },
  "language_info": {
   "codemirror_mode": {
    "name": "ipython",
    "version": 3
   },
   "file_extension": ".py",
   "mimetype": "text/x-python",
   "name": "python",
   "nbconvert_exporter": "python",
   "pygments_lexer": "ipython3",
   "version": "3.11.6"
  }
 },
 "nbformat": 4,
 "nbformat_minor": 2
}
