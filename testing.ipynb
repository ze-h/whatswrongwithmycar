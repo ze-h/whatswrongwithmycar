{
 "cells": [
  {
   "cell_type": "code",
   "execution_count": 3,
   "metadata": {},
   "outputs": [],
   "source": [
    "import sys\n",
    "import lib.gui.ui_main\n",
    "from PyQt5.QtWidgets import QApplication\n",
    "from lib.question import Question\n",
    "from lib.question_list import qlist"
   ]
  },
  {
   "cell_type": "code",
   "execution_count": 4,
   "metadata": {},
   "outputs": [
    {
     "name": "stdout",
     "output_type": "stream",
     "text": [
      "1FMYU03106KB37606\n",
      "2006 FORD Escape\n",
      "./cache/2021_Ford_Escape_Hybrid_SEL_AWD_in_Oxford_White2C_front_left.jpg\n"
     ]
    }
   ],
   "source": [
    "q = qlist[0]\n",
    "def main():\n",
    "    qlist.sort(key= lambda x : x.question_id)\n",
    "    app = QApplication(sys.argv)\n",
    "    window = lib.gui.ui_main.Ui_MainWindow()\n",
    "    window.setupUi(window)\n",
    "    window.show()\n",
    "    window.display_question(qlist[0])\n",
    "    app.exec()\n",
    "\n",
    "if __name__ == \"__main__\":\n",
    "    main()"
   ]
  }
 ],
 "metadata": {
  "kernelspec": {
   "display_name": "env",
   "language": "python",
   "name": "python3"
  },
  "language_info": {
   "codemirror_mode": {
    "name": "ipython",
    "version": 3
   },
   "file_extension": ".py",
   "mimetype": "text/x-python",
   "name": "python",
   "nbconvert_exporter": "python",
   "pygments_lexer": "ipython3",
   "version": "3.11.6"
  }
 },
 "nbformat": 4,
 "nbformat_minor": 2
}
